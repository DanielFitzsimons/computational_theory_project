{
 "cells": [
  {
   "cell_type": "markdown",
   "metadata": {},
   "source": [
    "## Countdown\n",
    "\n",
    "<p>In this notebook, i hope to provide you with a better understanding of a television favorite by the name of Countdown. Which is a numbers and letters game show. After reading this notebook, such charteristics as rules, how to play and understanding how the game was developed will be deleved into to build your understanding of the topic.</p>"
   ]
  },
  {
   "cell_type": "markdown",
   "metadata": {},
   "source": [
    "<h3>What is Countdown?</h3>\n",
    "\n",
    "<p>Countdown is a game that originated from a french game show called \"Des chiffres et des lettres\", which stands for \"of numbers and letters\". <sup> [1] </sup></p>\n",
    "\n",
    "<p>It allows two players to compete against one another and showcase their verbal and mathematical skills. These skills can be shown as contestants compose the longest word possible from a random selection of words or by reaching a target number from a list of selected numbers and basic mathematic functions. <sup> [1] </sup> </p>\n",
    "\n",
    "<h4>Rules of the game </h4>\n",
    "As all games require rules, here are the rules associated with the topic in discussion. <sup>[2]</sup>\n",
    "\n",
    "1. Six, face-down, numbered tiles are selected from 24 shuffled tiles.\n",
    "2. Tiles are arranged into 2 groups, Large and Small numbers.\n",
    "3. Large set consists of 4 numbers {25, 50, 75, 100}.\n",
    "4. Small set consists of 20 numbers - 2 of each numbers ranging from 1-10\n",
    "    {1,1,2,2,3,3,4,4,5,5,6,6,7,7,8,8,9,9,10,10,}\n",
    "5. A contestant must select as many numbers as they wish {unseen} from the large set (can be 0 or all 4), and the rest must be select from the small set to make up 6 numbers.\n",
    "6. A 3 digit number is randomly selected by a computer.\n",
    "7. Each contestant then has 30 seconds to get as close as possible to the target number by using the four basic arithmetic operators.\n",
    "8. Not all numbers need to be used.\n",
    "9. Concatenation of the numbers is prohibited.\n",
    "10. At no point during the game can the number be negative or a fraction.\n",
    "11. Each numbered tile can only be used once during calculations\n",
    "12. 10 points for correctly getting the solution\n",
    "13. 7 points for getting within 5 of the solution\n",
    "14. 5 points for getting within 10 points of the solution.\n",
    "\n"
   ]
  },
  {
   "cell_type": "markdown",
   "metadata": {},
   "source": [
    "\n",
    "## Bibliography\n",
    "\n",
    "- [Michael Brooke, 2022](http://www.screenonline.org.uk/tv/id/1295696/index.html)\n",
    "- [ Data Genetics, 2009-2014](http://datagenetics.com/blog/august32014/index.html)\n",
    "\n"
   ]
  }
 ],
 "metadata": {
  "kernelspec": {
   "display_name": "Python 3",
   "language": "python",
   "name": "python3"
  },
  "language_info": {
   "codemirror_mode": {
    "name": "ipython",
    "version": 3
   },
   "file_extension": ".py",
   "mimetype": "text/x-python",
   "name": "python",
   "nbconvert_exporter": "python",
   "pygments_lexer": "ipython3",
   "version": "3.11.3"
  }
 },
 "nbformat": 4,
 "nbformat_minor": 2
}
